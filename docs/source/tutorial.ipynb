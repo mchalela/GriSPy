{
 "cells": [
  {
   "cell_type": "markdown",
   "metadata": {
    "tags": []
   },
   "source": [
    "# Tutorial\n",
    "\n",
    "\n",
    "## Example with a 2D Uniform Distribution\n",
    "\n",
    "This example generates a 2D random uniform distribution. We will use these points to show how you can use `Grid` and `GriSPy` to index and query for neighbors.\n",
    "\n",
    "Keep in mind that the class `Grid` provides the funcitonality needed to index the points. The class `GriSPy` inherits from `Grid` all its functionalities and adds the relevant methods to perform neighbors queries: `set_periodicity`, `bubble_neighbors`, `shell_neighbors` and `nearest_neighbors`. For completeness, we will show the example using `GriSPy`."
   ]
  },
  {
   "cell_type": "markdown",
   "metadata": {},
   "source": [
    "----------------------------------------------------------------\n",
    "### Table of Contents\n",
    "\n",
    "* [Create a random distribution of points](#section1)\n",
    "\n",
    "* [Index the points with Grid/GriSPy](#section2)\n",
    "    \n",
    "* [Creating your curstom distance function](#section3)\n",
    "----------------------------------------------------------------"
   ]
  },
  {
   "cell_type": "markdown",
   "metadata": {},
   "source": [
    "# Create a random distribution of points  <a class=\"anchor\" id=\"section1\"></a>"
   ]
  },
  {
   "cell_type": "markdown",
   "metadata": {},
   "source": [
    "### Import GriSPy and others packages"
   ]
  },
  {
   "cell_type": "code",
   "execution_count": 1,
   "metadata": {},
   "outputs": [],
   "source": [
    "import numpy as np\n",
    "import matplotlib.pyplot as plt\n",
    "\n",
    "import grispy as gsp"
   ]
  },
  {
   "cell_type": "markdown",
   "metadata": {},
   "source": [
    "### Create random points and centres"
   ]
  },
  {
   "cell_type": "code",
   "execution_count": 2,
   "metadata": {},
   "outputs": [],
   "source": [
    "Npoints = 10 ** 3\n",
    "Ncentres = 2\n",
    "dim = 2\n",
    "Lbox = 100.0\n",
    "\n",
    "rng = np.random.default_rng(seed=10)\n",
    "data = rng.uniform(0, Lbox, size=(Npoints, dim))\n",
    "centres = rng.uniform(0, Lbox, size=(Ncentres, dim))"
   ]
  },
  {
   "cell_type": "markdown",
   "metadata": {},
   "source": [
    "# Index the points with Grid/GriSPy  <a class=\"anchor\" id=\"section2\"></a>"
   ]
  },
  {
   "cell_type": "code",
   "execution_count": 3,
   "metadata": {},
   "outputs": [],
   "source": [
    "grid = gsp.GriSPy(data, N_cells=32)"
   ]
  },
  {
   "cell_type": "markdown",
   "metadata": {},
   "source": [
    "You can get some information about the grid using some helpfull methods:"
   ]
  },
  {
   "cell_type": "code",
   "execution_count": 4,
   "metadata": {},
   "outputs": [
    {
     "data": {
      "text/plain": [
       "(32, 32)"
      ]
     },
     "execution_count": 4,
     "metadata": {},
     "output_type": "execute_result"
    }
   ],
   "source": [
    "grid.shape   # number of cells per dimension"
   ]
  },
  {
   "cell_type": "code",
   "execution_count": 5,
   "metadata": {},
   "outputs": [
    {
     "data": {
      "text/plain": [
       "array([[4.94712111e-02, 1.49738266e-02],\n",
       "       [9.99681622e+01, 9.99537612e+01]])"
      ]
     },
     "execution_count": 5,
     "metadata": {},
     "output_type": "execute_result"
    }
   ],
   "source": [
    "grid.edges   # grid edges in each dimension"
   ]
  },
  {
   "cell_type": "code",
   "execution_count": 6,
   "metadata": {},
   "outputs": [
    {
     "data": {
      "text/plain": [
       "array([[30,  7],\n",
       "       [25, 21]], dtype=int16)"
      ]
     },
     "execution_count": 6,
     "metadata": {},
     "output_type": "execute_result"
    }
   ],
   "source": [
    "digits = grid.cell_digits(centres)   # check the cell indices (or digits) where a given set of points would fall\n",
    "digits"
   ]
  },
  {
   "cell_type": "markdown",
   "metadata": {},
   "source": [
    "This means that from the 2 input points, the first would be located in the cell (31, 1) and the second in (29, 8)."
   ]
  },
  {
   "cell_type": "code",
   "execution_count": 7,
   "metadata": {},
   "outputs": [
    {
     "data": {
      "text/plain": [
       "array([0, 0])"
      ]
     },
     "execution_count": 7,
     "metadata": {},
     "output_type": "execute_result"
    }
   ],
   "source": [
    "grid.cell_count(digits)   # number of points in the array `data` that where indexed at initialization"
   ]
  },
  {
   "cell_type": "code",
   "execution_count": 8,
   "metadata": {},
   "outputs": [
    {
     "data": {
      "text/plain": [
       "array([[95.28447352, 23.43812711],\n",
       "       [79.67217806, 67.16134658]])"
      ]
     },
     "execution_count": 8,
     "metadata": {},
     "output_type": "execute_result"
    }
   ],
   "source": [
    "grid.cell_centre(digits)    # position of each cell centre"
   ]
  },
  {
   "cell_type": "markdown",
   "metadata": {},
   "source": [
    "The digits of cells can be used in other useful methods like `cell_walls` or `cell_points`."
   ]
  },
  {
   "cell_type": "markdown",
   "metadata": {},
   "source": [
    "Another important method is `contains` which shows if a given set of new points are contained by the grid."
   ]
  },
  {
   "cell_type": "code",
   "execution_count": 9,
   "metadata": {},
   "outputs": [
    {
     "data": {
      "text/plain": [
       "array([ True, False])"
      ]
     },
     "execution_count": 9,
     "metadata": {},
     "output_type": "execute_result"
    }
   ],
   "source": [
    "points = np.array([\n",
    "    [30., 50.], \n",
    "    [-10., -10.]\n",
    "])\n",
    "grid.contains(points)"
   ]
  },
  {
   "cell_type": "markdown",
   "metadata": {},
   "source": [
    "### Set periodicity conditions"
   ]
  },
  {
   "cell_type": "markdown",
   "metadata": {},
   "source": [
    "Set periodicity conditions on x-axis (or axis=0) and y-axis (or axis=1)"
   ]
  },
  {
   "cell_type": "code",
   "execution_count": 10,
   "metadata": {},
   "outputs": [
    {
     "data": {
      "text/plain": [
       "GriSPy(N_cells=32, copy_data=False, periodic={0: (0, 100.0), 1: (0, 100.0)}, metric='euclid')"
      ]
     },
     "execution_count": 10,
     "metadata": {},
     "output_type": "execute_result"
    }
   ],
   "source": [
    "periodic = {0: (0, Lbox), 1: (0, Lbox)}\n",
    "grid.set_periodicity(periodic, inplace=True)\n",
    "grid"
   ]
  },
  {
   "cell_type": "markdown",
   "metadata": {},
   "source": [
    "Also you can build a periodic grid in the same step"
   ]
  },
  {
   "cell_type": "code",
   "execution_count": 11,
   "metadata": {},
   "outputs": [],
   "source": [
    "grid = gsp.GriSPy(data, periodic=periodic)"
   ]
  },
  {
   "cell_type": "markdown",
   "metadata": {},
   "source": [
    "**Important:** Periodic boundaries don't have to be exactly the same as the values of `grid.edges`. The edges of the grid are computed from real data to optimize the queries on sparse data. So, there is nothing wrong on the edge of the grid being at 99.9 but the periodic boundary set exactly at 100."
   ]
  },
  {
   "cell_type": "markdown",
   "metadata": {},
   "source": [
    "### Query for neighbors within upper_radii"
   ]
  },
  {
   "cell_type": "code",
   "execution_count": 12,
   "metadata": {},
   "outputs": [],
   "source": [
    "upper_radii = 10.0\n",
    "bubble_dist, bubble_ind = grid.bubble_neighbors(\n",
    "    centres, distance_upper_bound=upper_radii\n",
    ")"
   ]
  },
  {
   "cell_type": "markdown",
   "metadata": {},
   "source": [
    "### Query for neighbors in a shell within lower_radii and upper_radii"
   ]
  },
  {
   "cell_type": "code",
   "execution_count": 13,
   "metadata": {},
   "outputs": [],
   "source": [
    "upper_radii = 20.0\n",
    "lower_radii = 10.0\n",
    "shell_dist, shell_ind = grid.shell_neighbors(\n",
    "    centres,\n",
    "    distance_lower_bound=lower_radii,\n",
    "    distance_upper_bound=upper_radii\n",
    ")"
   ]
  },
  {
   "cell_type": "markdown",
   "metadata": {},
   "source": [
    "### Query for nth nearest neighbors"
   ]
  },
  {
   "cell_type": "code",
   "execution_count": 14,
   "metadata": {},
   "outputs": [],
   "source": [
    "n_nearest = 10\n",
    "near_dist, near_ind = grid.nearest_neighbors(centres, n=n_nearest)"
   ]
  },
  {
   "cell_type": "markdown",
   "metadata": {},
   "source": [
    "### Plot results"
   ]
  },
  {
   "cell_type": "code",
   "execution_count": 15,
   "metadata": {},
   "outputs": [
    {
     "data": {
      "image/png": "[encoded data removed]",
      "text/plain": [
       "<Figure size 1008x360 with 3 Axes>"
      ]
     },
     "metadata": {
      "needs_background": "light"
     },
     "output_type": "display_data"
    }
   ],
   "source": [
    "fig, axes = plt.subplots(1, 3, figsize=(14, 5))\n",
    "\n",
    "ax = axes[0]\n",
    "ax.set_title(\"Bubble query\")\n",
    "ax.scatter(data[:, 0], data[:, 1], c=\"k\", marker=\".\", s=3)\n",
    "for ind in bubble_ind:\n",
    "    ax.scatter(data[ind, 0], data[ind, 1], c=\"C3\", marker=\"o\", s=5)\n",
    "ax.plot(centres[:,0],centres[:,1],'ro',ms=10)\n",
    "\n",
    "\n",
    "ax = axes[1]\n",
    "ax.set_title(\"Shell query\")\n",
    "ax.scatter(data[:, 0], data[:, 1], c=\"k\", marker=\".\", s=2)\n",
    "for ind in shell_ind:\n",
    "    ax.scatter(data[ind, 0], data[ind, 1], c=\"C2\", marker=\"o\", s=5)\n",
    "ax.plot(centres[:,0],centres[:,1],'ro',ms=10)\n",
    "\n",
    "ax = axes[2]\n",
    "ax.set_title(\"n-Nearest query\")\n",
    "ax.scatter(data[:, 0], data[:, 1], c=\"k\", marker=\".\", s=2)\n",
    "for ind in near_ind:\n",
    "    ax.scatter(data[ind, 0], data[ind, 1], c=\"C0\", marker=\"o\", s=5)\n",
    "ax.plot(centres[:,0],centres[:,1],'ro',ms=10)\n",
    "\n",
    "fig.tight_layout()"
   ]
  },
  {
   "cell_type": "markdown",
   "metadata": {},
   "source": [
    "# Creating your curstom distance function  <a class=\"anchor\" id=\"section3\"></a>"
   ]
  },
  {
   "cell_type": "markdown",
   "metadata": {},
   "source": [
    "Let's assume that we intend to compare our distances using levenshtein's metric for similarity between text (https://en.wikipedia.org/wiki/Levenshtein_distance).\n",
    "\n",
    "Luckly we have the excellent `textdistance` library that implements efficiently this distance. \n",
    "\n",
    "We can install it with\n",
    "\n",
    "``` bash\n",
    "$ pip install textdistance\n",
    "```\n",
    "\n",
    "and then import it with"
   ]
  },
  {
   "cell_type": "code",
   "execution_count": 16,
   "metadata": {},
   "outputs": [],
   "source": [
    "import textdistance"
   ]
  },
  {
   "cell_type": "markdown",
   "metadata": {},
   "source": [
    "So to make these custom distance compatible with GriSPy, we must define a function\n",
    "that receives 3 parameters:\n",
    "    \n",
    "- `c0` the center to which we seek the distance.\n",
    "- `centres` the $C$ centers to which we want to calculate the distance from\n",
    "   a *c0*.\n",
    "- `dim` the dimension of each center and *c0*.\n",
    "\n",
    "Finally the function must return a `np.ndarray` with $C$ elements\n",
    "where the element $j-nth$ corresponds to the distance between `c0` and `centres`$_j$."
   ]
  },
  {
   "cell_type": "code",
   "execution_count": 17,
   "metadata": {},
   "outputs": [],
   "source": [
    "def levenshtein(c0, centres, dim):\n",
    "    # textdistance only operates over list and tuples\n",
    "    c0 = tuple(c0)\n",
    "    \n",
    "    # creates a empty array with the required \n",
    "    # number of distances\n",
    "    distances = np.empty(len(centres))\n",
    "    for idx, c1 in enumerate(centres):\n",
    "        \n",
    "        # textdistance only operates over list and tuples\n",
    "        c1 = tuple(c1)\n",
    "        \n",
    "        # calculate the distance\n",
    "        dis = textdistance.levenshtein(c0, c1)\n",
    "        \n",
    "        # store the distance\n",
    "        distances[idx] = dis\n",
    "        \n",
    "    return distances"
   ]
  },
  {
   "cell_type": "markdown",
   "metadata": {},
   "source": [
    "Then we create the grid with the custom distance, and run the code"
   ]
  },
  {
   "cell_type": "code",
   "execution_count": 18,
   "metadata": {},
   "outputs": [],
   "source": [
    "grid = gsp.GriSPy(data, metric=levenshtein)\n",
    "\n",
    "upper_radii = 10.0\n",
    "lev_dist, lev_ind = grid.bubble_neighbors(\n",
    "    centres, distance_upper_bound=upper_radii)"
   ]
  },
  {
   "cell_type": "markdown",
   "metadata": {},
   "source": [
    "Finally we can check our `bubble_neighbors` result with a plot"
   ]
  },
  {
   "cell_type": "code",
   "execution_count": 19,
   "metadata": {},
   "outputs": [
    {
     "data": {
      "image/png": "[encoded data removed]",
      "text/plain": [
       "<Figure size 432x432 with 1 Axes>"
      ]
     },
     "metadata": {
      "needs_background": "light"
     },
     "output_type": "display_data"
    }
   ],
   "source": [
    "fig, axes = plt.subplots(figsize=(6, 6))\n",
    "\n",
    "ax = axes\n",
    "ax.set_title(\"Bubble query with Levenshtein distance\")\n",
    "ax.scatter(data[:, 0], data[:, 1], c=\"k\", marker=\".\", s=3)\n",
    "for ind in lev_ind:\n",
    "    ax.scatter(data[ind, 0], data[ind, 1], c=\"C3\", marker=\"o\", s=5)\n",
    "ax.plot(centres[:,0],centres[:,1],'ro',ms=10)\n",
    "\n",
    "fig.tight_layout()"
   ]
  }
 ],
 "metadata": {
  "kernelspec": {
   "display_name": "Python 3",
   "language": "python",
   "name": "python3"
  },
  "language_info": {
   "codemirror_mode": {
    "name": "ipython",
    "version": 3
   },
   "file_extension": ".py",
   "mimetype": "text/x-python",
   "name": "python",
   "nbconvert_exporter": "python",
   "pygments_lexer": "ipython3",
   "version": "3.8.10"
  }
 },
 "nbformat": 4,
 "nbformat_minor": 4
}
